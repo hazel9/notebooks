{
 "metadata": {
  "name": "",
  "signature": "sha256:b67346d960728bca3a12f839c138967ad7043750436c4516b843158ebd2fb250"
 },
 "nbformat": 3,
 "nbformat_minor": 0,
 "worksheets": [
  {
   "cells": [
    {
     "cell_type": "heading",
     "level": 1,
     "metadata": {},
     "source": [
      "Primer interpolacije:"
     ]
    },
    {
     "cell_type": "markdown",
     "metadata": {},
     "source": [
      "\n",
      "Ako nam je zadata funkcija numericki (tabelarno), da li, i koliko dobro mozemo odrediti analiticku formulu te funkcije.<br>\n",
      "Aproksimacije koje uzimamo jesu sledece: <br> <br>\n",
      "1) Funkcija u svakom konacnom trenutku ima konacnu vrednost.<br>\n",
      "2) Funkcija je glatka.<br><br>\n",
      "Prvo cemo pokusati da povecamo ucestanost odabiraka funkcije, na razne nacine. A zatim cemo pokusati da predstavimo tu numericku funkciju kao, najcesce, red analitickih izraza."
     ]
    },
    {
     "cell_type": "code",
     "collapsed": false,
     "input": [
      "import numpy as num\n",
      "import sympy as sym\n",
      "import matplotlib.pyplot as plt"
     ],
     "language": "python",
     "metadata": {},
     "outputs": [],
     "prompt_number": 7
    },
    {
     "cell_type": "markdown",
     "metadata": {},
     "source": [
      "Definisacemo promenljive pomocu kojih cemo moci lakse da menjamo parametre interpolacije."
     ]
    },
    {
     "cell_type": "code",
     "collapsed": false,
     "input": [
      "RES=10\n",
      "RESi=20\n",
      "RANG1=0\n",
      "RANG2=5\n",
      "t=num.linspace(RANG1,RANG2,RES)\n",
      "ti=num.linspace(RANG1,RANG2,RESi)"
     ],
     "language": "python",
     "metadata": {},
     "outputs": [],
     "prompt_number": 8
    },
    {
     "cell_type": "markdown",
     "metadata": {},
     "source": [
      "Gde su RES i RESi rezulucije date funkcije i interpolirane funkcije.<br>\n",
      "RANG1 i RANG2 su pocetna i krajnja tacka respektivno.<br><br>\n",
      "Mi cemo ovde kao primer posmatrati sinusnu funkciju."
     ]
    },
    {
     "cell_type": "code",
     "collapsed": false,
     "input": [
      "x=num.sin(t)\n",
      "xi=num.sin(ti)"
     ],
     "language": "python",
     "metadata": {},
     "outputs": [],
     "prompt_number": 9
    },
    {
     "cell_type": "code",
     "collapsed": false,
     "input": [],
     "language": "python",
     "metadata": {},
     "outputs": []
    }
   ],
   "metadata": {}
  }
 ]
}
